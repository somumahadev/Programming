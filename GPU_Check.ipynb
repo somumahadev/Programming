{
 "cells": [
  {
   "cell_type": "code",
   "execution_count": null,
   "id": "fb359308-25c8-4ddc-b284-619b2463a868",
   "metadata": {},
   "outputs": [],
   "source": [
    "# Check TensorFlow installation and GPU availability\n",
    "try:\n",
    "    import tensorflow as tf\n",
    "    print(f\"TensorFlow is installed. Version: {tf.__version__}\")\n",
    "    if tf.config.list_physical_devices('GPU'):\n",
    "        print(\"TensorFlow can access the GPU.\")\n",
    "        print(\"Available GPUs:\", tf.config.list_physical_devices('GPU'))\n",
    "    else:\n",
    "        print(\"TensorFlow cannot detect any GPUs.\")\n",
    "except ImportError:\n",
    "    print(\"TensorFlow is not installed.\")\n"
   ]
  },
  {
   "cell_type": "code",
   "execution_count": null,
   "id": "f26dc26f-1e79-4943-a81b-2056f1d42c31",
   "metadata": {},
   "outputs": [],
   "source": [
    "\n",
    "# Check PyTorch installation and GPU availability\n",
    "try:\n",
    "    import torch\n",
    "    print(f\"PyTorch is installed. Version: {torch.__version__}\")\n",
    "    if torch.cuda.is_available():\n",
    "        print(\"PyTorch can access the GPU.\")\n",
    "        print(f\"GPU Name: {torch.cuda.get_device_name(0)}\")\n",
    "        print(f\"GPU Memory: {torch.cuda.get_device_properties(0).total_memory / 1e9:.2f} GB\")\n",
    "    else:\n",
    "        print(\"PyTorch cannot detect any GPUs.\")\n",
    "except ImportError:\n",
    "    print(\"PyTorch is not installed.\")\n"
   ]
  },
  {
   "cell_type": "code",
   "execution_count": 1,
   "id": "3d6fc79b-8659-4f22-a159-727e62332701",
   "metadata": {},
   "outputs": [
    {
     "data": {
      "text/plain": [
       "'D:\\\\JupyterNotebooks'"
      ]
     },
     "execution_count": 1,
     "metadata": {},
     "output_type": "execute_result"
    }
   ],
   "source": [
    "import os\n",
    "os.getcwd()"
   ]
  },
  {
   "cell_type": "code",
   "execution_count": null,
   "id": "e51863ef-cc03-4c63-8ec1-9c36eac97aff",
   "metadata": {},
   "outputs": [],
   "source": []
  }
 ],
 "metadata": {
  "kernelspec": {
   "display_name": "Python 3 (ipykernel)",
   "language": "python",
   "name": "python3"
  },
  "language_info": {
   "codemirror_mode": {
    "name": "ipython",
    "version": 3
   },
   "file_extension": ".py",
   "mimetype": "text/x-python",
   "name": "python",
   "nbconvert_exporter": "python",
   "pygments_lexer": "ipython3",
   "version": "3.9.0"
  }
 },
 "nbformat": 4,
 "nbformat_minor": 5
}
